{
 "cells": [
  {
   "cell_type": "code",
   "execution_count": 1,
   "id": "4431adb6",
   "metadata": {},
   "outputs": [],
   "source": [
    "# day 7  20/1 task"
   ]
  },
  {
   "cell_type": "code",
   "execution_count": 2,
   "id": "d19bfd2e",
   "metadata": {},
   "outputs": [],
   "source": [
    "magicians=['Alice', 'David', 'Carolina']"
   ]
  },
  {
   "cell_type": "code",
   "execution_count": 3,
   "id": "fd9e6c4f",
   "metadata": {},
   "outputs": [
    {
     "name": "stdout",
     "output_type": "stream",
     "text": [
      "Alice, that was a great trick\n",
      "David, that was a great trick\n",
      "Carolina, that was a great trick\n"
     ]
    }
   ],
   "source": [
    "for x in magicians:\n",
    "    print(f\"{x.title()}, that was a great trick\")"
   ]
  },
  {
   "cell_type": "code",
   "execution_count": 4,
   "id": "6de01a10",
   "metadata": {},
   "outputs": [
    {
     "name": "stdout",
     "output_type": "stream",
     "text": [
      "Alice, that was a great trick\n",
      " i cant wait to see your next trick,Alice\n",
      "David, that was a great trick\n",
      " i cant wait to see your next trick,David\n",
      "Carolina, that was a great trick\n",
      " i cant wait to see your next trick,Carolina\n"
     ]
    }
   ],
   "source": [
    "for x in magicians:\n",
    "    print(f\"{x.title()}, that was a great trick\")\n",
    "    print(f\" i cant wait to see your next trick,{x.title()}\")\n"
   ]
  },
  {
   "cell_type": "code",
   "execution_count": 5,
   "id": "f88a2148",
   "metadata": {
    "scrolled": true
   },
   "outputs": [
    {
     "name": "stdout",
     "output_type": "stream",
     "text": [
      "Alice, that was a great trick\n",
      " i cant wait to see your next trick,Alice\n",
      "\n",
      "David, that was a great trick\n",
      " i cant wait to see your next trick,David\n",
      "\n",
      "Carolina, that was a great trick\n",
      " i cant wait to see your next trick,Carolina\n",
      "\n"
     ]
    }
   ],
   "source": [
    "for x in magicians:    \n",
    "    print(f\"{x.title()}, that was a great trick\")    \n",
    "    print(f\" i cant wait to see your next trick,{x.title()}\\n\")\n"
   ]
  },
  {
   "cell_type": "code",
   "execution_count": 7,
   "id": "41c96bb3",
   "metadata": {},
   "outputs": [
    {
     "name": "stdout",
     "output_type": "stream",
     "text": [
      "Alice, that was a great trick\n",
      " i cant wait to see your next trick,Alice\n",
      "\n",
      "Thank you all for joining in the show today night\n",
      "David, that was a great trick\n",
      " i cant wait to see your next trick,David\n",
      "\n",
      "Thank you all for joining in the show today night\n",
      "Carolina, that was a great trick\n",
      " i cant wait to see your next trick,Carolina\n",
      "\n",
      "Thank you all for joining in the show today night\n"
     ]
    }
   ],
   "source": [
    "for x in magicians: \n",
    "    print(f\"{x.title()}, that was a great trick\")\n",
    "    print(f\" i cant wait to see your next trick,{x.title()}\\n\")\n",
    "    print(\"Thank you all for joining in the show today night\")\n"
   ]
  },
  {
   "cell_type": "code",
   "execution_count": 8,
   "id": "71c7f19d",
   "metadata": {},
   "outputs": [],
   "source": [
    "# Range function"
   ]
  },
  {
   "cell_type": "code",
   "execution_count": 9,
   "id": "0de36666",
   "metadata": {},
   "outputs": [
    {
     "name": "stdout",
     "output_type": "stream",
     "text": [
      "1\n",
      "2\n",
      "3\n",
      "4\n",
      "5\n",
      "6\n",
      "7\n",
      "8\n",
      "9\n",
      "10\n",
      "11\n",
      "12\n",
      "13\n",
      "14\n",
      "15\n",
      "16\n",
      "17\n",
      "18\n",
      "19\n"
     ]
    }
   ],
   "source": [
    "for value in range(1,20): \n",
    "    print(value)"
   ]
  },
  {
   "cell_type": "code",
   "execution_count": 10,
   "id": "f858ab0e",
   "metadata": {},
   "outputs": [
    {
     "name": "stdout",
     "output_type": "stream",
     "text": [
      "1\n",
      "2\n",
      "3\n",
      "4\n",
      "5\n",
      "6\n",
      "7\n",
      "8\n",
      "9\n",
      "10\n",
      "11\n",
      "12\n",
      "13\n",
      "14\n",
      "15\n",
      "16\n",
      "17\n",
      "18\n",
      "19\n",
      "20\n"
     ]
    }
   ],
   "source": [
    "for value in range(1,21):\n",
    "    print(value)\n"
   ]
  },
  {
   "cell_type": "code",
   "execution_count": 11,
   "id": "549ca4dd",
   "metadata": {},
   "outputs": [],
   "source": [
    "# to make a list of numbers 20"
   ]
  },
  {
   "cell_type": "code",
   "execution_count": 12,
   "id": "f04f2541",
   "metadata": {},
   "outputs": [
    {
     "name": "stdout",
     "output_type": "stream",
     "text": [
      "[1, 2, 3, 4, 5, 6, 7, 8, 9, 10, 11, 12, 13, 14, 15, 16, 17, 18, 19, 20]\n"
     ]
    }
   ],
   "source": [
    "numbers=list(range(1,21))\n",
    "print(numbers)"
   ]
  },
  {
   "cell_type": "code",
   "execution_count": 13,
   "id": "1be5093f",
   "metadata": {},
   "outputs": [],
   "source": [
    "# to print only even numbers"
   ]
  },
  {
   "cell_type": "code",
   "execution_count": 14,
   "id": "cc165a9b",
   "metadata": {},
   "outputs": [
    {
     "name": "stdout",
     "output_type": "stream",
     "text": [
      "[2, 4, 6, 8, 10, 12, 14, 16, 18]\n"
     ]
    }
   ],
   "source": [
    "eve_numbers=list(range(2,20,2))\n",
    "print(eve_numbers)"
   ]
  },
  {
   "cell_type": "code",
   "execution_count": 15,
   "id": "6f20785a",
   "metadata": {},
   "outputs": [],
   "source": [
    "# odd numbers"
   ]
  },
  {
   "cell_type": "code",
   "execution_count": 16,
   "id": "26b21fd1",
   "metadata": {},
   "outputs": [
    {
     "name": "stdout",
     "output_type": "stream",
     "text": [
      "[3, 5, 7, 9, 11, 13, 15, 17, 19]\n"
     ]
    }
   ],
   "source": [
    "odd_numbers=list(range(3,20,2))\n",
    "print(odd_numbers)"
   ]
  },
  {
   "cell_type": "code",
   "execution_count": null,
   "id": "55268cee",
   "metadata": {},
   "outputs": [],
   "source": []
  }
 ],
 "metadata": {
  "kernelspec": {
   "display_name": "Python 3 (ipykernel)",
   "language": "python",
   "name": "python3"
  },
  "language_info": {
   "codemirror_mode": {
    "name": "ipython",
    "version": 3
   },
   "file_extension": ".py",
   "mimetype": "text/x-python",
   "name": "python",
   "nbconvert_exporter": "python",
   "pygments_lexer": "ipython3",
   "version": "3.9.7"
  }
 },
 "nbformat": 4,
 "nbformat_minor": 5
}
